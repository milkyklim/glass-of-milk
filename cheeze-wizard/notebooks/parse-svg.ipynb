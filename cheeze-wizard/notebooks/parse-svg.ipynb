{
 "cells": [
  {
   "cell_type": "code",
   "execution_count": null,
   "metadata": {},
   "outputs": [],
   "source": [
    "import pandas as pd\n",
    "import os as os\n",
    "\n",
    "import numpy as np\n",
    "import matplotlib.pyplot as plt\n",
    "import lxml.etree as et"
   ]
  },
  {
   "cell_type": "code",
   "execution_count": null,
   "metadata": {},
   "outputs": [],
   "source": [
    "DATAPATH = '../data/output'"
   ]
  },
  {
   "cell_type": "code",
   "execution_count": null,
   "metadata": {},
   "outputs": [],
   "source": [
    "df = pd.read_csv(\n",
    "    os.path.join(DATAPATH, 'token_id.csv')\n",
    ")"
   ]
  },
  {
   "cell_type": "code",
   "execution_count": null,
   "metadata": {},
   "outputs": [],
   "source": [
    "df.head()"
   ]
  },
  {
   "cell_type": "code",
   "execution_count": null,
   "metadata": {},
   "outputs": [],
   "source": [
    "img = []\n",
    "path = os.path.join(DATAPATH, 'images', '3425.svg')\n",
    "with open(path, 'rb') as f:\n",
    "    img = f.read()\n",
    "print(img)"
   ]
  },
  {
   "cell_type": "code",
   "execution_count": null,
   "metadata": {},
   "outputs": [],
   "source": [
    "xml = et.parse(os.path.join(DATAPATH, 'images', '3415.svg'))\n",
    "svg = xml.getroot()"
   ]
  },
  {
   "cell_type": "code",
   "execution_count": null,
   "metadata": {},
   "outputs": [],
   "source": [
    "for child in svg:\n",
    "    if child.tag.lower() == \"{http://www.w3.org/2000/svg}style\":\n",
    "        print(child.text)"
   ]
  },
  {
   "cell_type": "code",
   "execution_count": null,
   "metadata": {},
   "outputs": [],
   "source": [
    "# we are looking for the following definitions\n",
    "properties = [\n",
    "    '--hat-base',\n",
    "    '--hat-accent',\n",
    "    '--medallion-base',\n",
    "    '--collar-base',\n",
    "    '--cape-base',\n",
    "    '--pants-base',\n",
    "    '--boot-accent',\n",
    "    '--boot-base',\n",
    "    '--hands-base',\n",
    "    '--hands-accent',\n",
    "    '--wand-accent',\n",
    "]"
   ]
  },
  {
   "cell_type": "code",
   "execution_count": null,
   "metadata": {},
   "outputs": [],
   "source": [
    "for child in svg:\n",
    "    if child.tag.lower() == \"{http://www.w3.org/2000/svg}style\":\n",
    "        text = child.text\n",
    "        rows = np.array([s.strip(' ') for s in child.text.split('\\n')])\n",
    "        properties_with_values = [rows[[r.startswith(p) for r in rows]][0].rstrip(';') for p in properties]"
   ]
  },
  {
   "cell_type": "code",
   "execution_count": null,
   "metadata": {},
   "outputs": [],
   "source": [
    "[p.split(' ') for p in properties_with_values]"
   ]
  },
  {
   "cell_type": "code",
   "execution_count": null,
   "metadata": {},
   "outputs": [],
   "source": []
  }
 ],
 "metadata": {
  "kernelspec": {
   "display_name": "Python (eth)",
   "language": "python",
   "name": "eth"
  },
  "language_info": {
   "codemirror_mode": {
    "name": "ipython",
    "version": 3
   },
   "file_extension": ".py",
   "mimetype": "text/x-python",
   "name": "python",
   "nbconvert_exporter": "python",
   "pygments_lexer": "ipython3",
   "version": "3.7.3"
  }
 },
 "nbformat": 4,
 "nbformat_minor": 2
}
