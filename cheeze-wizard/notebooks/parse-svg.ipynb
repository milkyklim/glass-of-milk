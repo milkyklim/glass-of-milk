{
 "cells": [
  {
   "cell_type": "code",
   "execution_count": null,
   "metadata": {},
   "outputs": [],
   "source": [
    "import pandas as pd\n",
    "import os as os\n",
    "import lxml.etree as et\n",
    "from lxml.cssselect import CSSSelector\n",
    "\n",
    "import cssutils"
   ]
  },
  {
   "cell_type": "code",
   "execution_count": null,
   "metadata": {},
   "outputs": [],
   "source": [
    "from bs4 import BeautifulSoup as BSoup"
   ]
  },
  {
   "cell_type": "code",
   "execution_count": null,
   "metadata": {},
   "outputs": [],
   "source": [
    "DATAPATH = '../data/output'"
   ]
  },
  {
   "cell_type": "code",
   "execution_count": null,
   "metadata": {},
   "outputs": [],
   "source": [
    "df = pd.read_csv(\n",
    "    os.path.join(DATAPATH, 'token_id.csv')\n",
    ")"
   ]
  },
  {
   "cell_type": "code",
   "execution_count": null,
   "metadata": {},
   "outputs": [],
   "source": [
    "df.head()"
   ]
  },
  {
   "cell_type": "code",
   "execution_count": null,
   "metadata": {},
   "outputs": [],
   "source": [
    "# test that parser is really working"
   ]
  },
  {
   "cell_type": "code",
   "execution_count": null,
   "metadata": {},
   "outputs": [],
   "source": [
    "xml = et.parse(os.path.join(DATAPATH, 'images', '3415.svg'))"
   ]
  },
  {
   "cell_type": "code",
   "execution_count": null,
   "metadata": {},
   "outputs": [],
   "source": [
    "svg = xml.getroot()"
   ]
  },
  {
   "cell_type": "code",
   "execution_count": null,
   "metadata": {},
   "outputs": [],
   "source": [
    "sel = CSSSelector('legs')"
   ]
  },
  {
   "cell_type": "code",
   "execution_count": null,
   "metadata": {},
   "outputs": [],
   "source": [
    "[e for e in sel(svg)]"
   ]
  },
  {
   "cell_type": "code",
   "execution_count": null,
   "metadata": {},
   "outputs": [],
   "source": [
    "# this should be able to parse all availble \n",
    "[e.get('id') for e in svg]"
   ]
  },
  {
   "cell_type": "code",
   "execution_count": null,
   "metadata": {},
   "outputs": [],
   "source": [
    "[e.attrib for e in svg]"
   ]
  },
  {
   "cell_type": "code",
   "execution_count": null,
   "metadata": {},
   "outputs": [],
   "source": [
    "sheets = []\n",
    "for styletag in svg.findall('{http://www.w3.org/2000/svg}style'): # , type='text/css'):\n",
    "    print(cssutils.parseStyle(styletag))\n",
    "    \n",
    "    for s in cssutils.parseStyle(styletag):\n",
    "        print(s)\n",
    "    \n",
    "#     if not styletag.string: # probably an external sheet\n",
    "#         continue\n",
    "#     sheets.append(cssutils.parseStyle(styletag.string))"
   ]
  },
  {
   "cell_type": "code",
   "execution_count": null,
   "metadata": {},
   "outputs": [],
   "source": [
    "selectors = {}\n",
    "with open(os.path.join(DATAPATH, 'images', '3415.svg')) as webpage:\n",
    "    html = webpage.read()\n",
    "    soup = BSoup(html, 'html.parser')\n",
    "          \n",
    "          \n",
    "    for styles in soup.select('style'):\n",
    "        css = cssutils.parseString(styles.encode_contents())\n",
    "        for rule in css:\n",
    "            print(rule)\n",
    "#             if rule.type == rule.STYLE_RULE:\n",
    "#                 style = rule.selectorText\n",
    "#                 selectors[style] = {}\n",
    "#                 for item in rule.style:\n",
    "#                     propertyname = item.name\n",
    "#                     value = item.value\n",
    "#                     selectors[style][propertyname] = value"
   ]
  },
  {
   "cell_type": "code",
   "execution_count": null,
   "metadata": {},
   "outputs": [],
   "source": [
    "sheets"
   ]
  },
  {
   "cell_type": "code",
   "execution_count": null,
   "metadata": {},
   "outputs": [],
   "source": [
    "[e.attrib for e in svg.findall('{http://www.w3.org/2000/svg}style')]"
   ]
  },
  {
   "cell_type": "code",
   "execution_count": null,
   "metadata": {},
   "outputs": [],
   "source": [
    "[e for e in svg.findall('{http://www.w3.org/2000/svg}style/legs')]"
   ]
  },
  {
   "cell_type": "code",
   "execution_count": null,
   "metadata": {},
   "outputs": [],
   "source": [
    "--hat-base: #FFFFFF;\n",
    "--hat-accent: #FFC200;\n",
    "--medallion-base: #FFC200;\n",
    "--collar-base: #FFFFFF;\n",
    "--cape-base: #FFFFFF;\n",
    "--pants-base: #FFFFFF;\n",
    "--boot-accent: #FFFFFF;\n",
    "--boot-base: #FFFFFF;\n",
    "--hands-base: #FFFFFF;\n",
    "--hands-accent: #FFFFFF;\n",
    "--wand-accent: #A66EFF;"
   ]
  },
  {
   "cell_type": "code",
   "execution_count": null,
   "metadata": {},
   "outputs": [],
   "source": [
    "?BSoup"
   ]
  },
  {
   "cell_type": "code",
   "execution_count": null,
   "metadata": {},
   "outputs": [],
   "source": []
  }
 ],
 "metadata": {
  "kernelspec": {
   "display_name": "Python (eth)",
   "language": "python",
   "name": "eth"
  },
  "language_info": {
   "codemirror_mode": {
    "name": "ipython",
    "version": 3
   },
   "file_extension": ".py",
   "mimetype": "text/x-python",
   "name": "python",
   "nbconvert_exporter": "python",
   "pygments_lexer": "ipython3",
   "version": "3.7.3"
  }
 },
 "nbformat": 4,
 "nbformat_minor": 2
}
