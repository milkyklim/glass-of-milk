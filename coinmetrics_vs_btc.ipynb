{
 "cells": [
  {
   "cell_type": "code",
   "execution_count": null,
   "metadata": {
    "collapsed": true
   },
   "outputs": [],
   "source": [
    "# data from https://coinmetrics.io/data-downloads/"
   ]
  },
  {
   "cell_type": "code",
   "execution_count": null,
   "metadata": {
    "collapsed": false
   },
   "outputs": [],
   "source": [
    "import pandas as pd\n",
    "import seaborn as sns\n",
    "import matplotlib.pyplot as plt\n",
    "from glob import glob\n",
    "from pathlib import Path"
   ]
  },
  {
   "cell_type": "code",
   "execution_count": null,
   "metadata": {
    "collapsed": true
   },
   "outputs": [],
   "source": [
    "%matplotlib inline"
   ]
  },
  {
   "cell_type": "code",
   "execution_count": null,
   "metadata": {
    "collapsed": true
   },
   "outputs": [],
   "source": [
    "# to fix warning \n",
    "from pandas.plotting import register_matplotlib_converters\n",
    "register_matplotlib_converters()"
   ]
  },
  {
   "cell_type": "code",
   "execution_count": null,
   "metadata": {
    "collapsed": true
   },
   "outputs": [],
   "source": [
    "# from IPython.core.interactiveshell import InteractiveShell\n",
    "# InteractiveShell.ast_node_interactivity = 'all'"
   ]
  },
  {
   "cell_type": "code",
   "execution_count": null,
   "metadata": {
    "collapsed": true
   },
   "outputs": [],
   "source": [
    "DAYS = 365  # in days\n",
    "DATEMIN = '2009-01-03' \n",
    "DATEMAX = '2019-07-07'"
   ]
  },
  {
   "cell_type": "code",
   "execution_count": null,
   "metadata": {
    "collapsed": false,
    "scrolled": true
   },
   "outputs": [],
   "source": [
    "df = pd.DataFrame()\n",
    "for name in glob('data/*.csv'):\n",
    "    tmp = pd.read_csv(name, \n",
    "                      parse_dates=['date'])\n",
    "    coin = Path(name).stem\n",
    "    if 'price(USD)' not in tmp.columns:\n",
    "        print(f'For {coin} price(USD) is missing')\n",
    "        continue \n",
    "    tmp = tmp[['date', 'price(USD)']]\n",
    "    tmp.columns = ['date', coin]\n",
    "    \n",
    "    tmp = tmp.set_index('date')\n",
    "    tmp = tmp.reindex(pd.date_range(start=DATEMIN, end=DATEMAX, freq='D'))\n",
    "    df = pd.concat([df, tmp], axis=1, sort=False)   "
   ]
  },
  {
   "cell_type": "code",
   "execution_count": null,
   "metadata": {
    "collapsed": false
   },
   "outputs": [],
   "source": [
    "coins = df.columns.sort_values()"
   ]
  },
  {
   "cell_type": "code",
   "execution_count": null,
   "metadata": {
    "collapsed": false,
    "scrolled": true
   },
   "outputs": [],
   "source": [
    "df = df.div(df['btc'], axis=0) / df.div(df['btc'], axis=0).shift(DAYS)\n",
    "df = df.reset_index()"
   ]
  },
  {
   "cell_type": "code",
   "execution_count": null,
   "metadata": {
    "collapsed": false
   },
   "outputs": [],
   "source": [
    "df_plt = pd.melt(df, \n",
    "                 id_vars='index',\n",
    "                 col_level=0)\n",
    "df_plt.columns = ['date', 'coin', 'roi']\n",
    "df_plt.head()"
   ]
  },
  {
   "cell_type": "code",
   "execution_count": null,
   "metadata": {
    "collapsed": true
   },
   "outputs": [],
   "source": [
    "df_plt.dropna(how='any').to_csv('coins_vs_btc.csv')"
   ]
  },
  {
   "cell_type": "code",
   "execution_count": null,
   "metadata": {
    "collapsed": false,
    "scrolled": true
   },
   "outputs": [],
   "source": [
    "g = sns.FacetGrid(data=df_plt,\n",
    "                  hue='coin',\n",
    "                  height=3, \n",
    "                  aspect=3, \n",
    "                  row='coin',\n",
    "                  palette='muted',\n",
    "                  row_order=coins,\n",
    "                  sharex=False,\n",
    "                  sharey=False,\n",
    "                  )\n",
    "g.map(plt.plot, 'date', 'roi', alpha=.8)\n",
    "\n",
    "for ax in g.axes.flat:\n",
    "    ax.axhline(1, ls='--', color='red')\n",
    "\n",
    "g.set(yscale='log')\n",
    "g.savefig('figs/vs-btc-not-share-axes.pdf')"
   ]
  },
  {
   "cell_type": "code",
   "execution_count": null,
   "metadata": {
    "collapsed": false,
    "scrolled": true
   },
   "outputs": [],
   "source": [
    "# drop btc for better readability\n",
    "g = sns.FacetGrid(data=df_plt[df_plt['coin'] != 'btc'].dropna(how='any'),\n",
    "                  hue=\"coin\",\n",
    "                  height=3, \n",
    "                  aspect=3, \n",
    "                  row='coin',\n",
    "                  palette='muted',\n",
    "                  row_order=coins.drop('btc'),\n",
    "                  # sharex=True,\n",
    "                  # sharey=True,\n",
    "                  )\n",
    "g.map(plt.plot, 'date', 'roi', alpha=.8)\n",
    "\n",
    "for ax in g.axes.flat:\n",
    "    ax.axhline(1, ls='--', color='red')\n",
    "\n",
    "g.set(yscale=\"log\")\n",
    "g.savefig('figs/vs-btc-share-axes.pdf')"
   ]
  },
  {
   "cell_type": "code",
   "execution_count": null,
   "metadata": {
    "collapsed": false
   },
   "outputs": [],
   "source": [
    "coins.drop('btc')"
   ]
  },
  {
   "cell_type": "code",
   "execution_count": null,
   "metadata": {
    "collapsed": true
   },
   "outputs": [],
   "source": []
  }
 ],
 "metadata": {
  "kernelspec": {
   "display_name": "Python (dino-crypto)",
   "language": "python",
   "name": "dino-crypto"
  },
  "language_info": {
   "codemirror_mode": {
    "name": "ipython",
    "version": 3
   },
   "file_extension": ".py",
   "mimetype": "text/x-python",
   "name": "python",
   "nbconvert_exporter": "python",
   "pygments_lexer": "ipython3",
   "version": "3.7.3"
  }
 },
 "nbformat": 4,
 "nbformat_minor": 2
}
